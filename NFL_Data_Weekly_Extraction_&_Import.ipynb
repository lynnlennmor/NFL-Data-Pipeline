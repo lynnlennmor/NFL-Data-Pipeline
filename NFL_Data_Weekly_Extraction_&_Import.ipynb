{
 "cells": [
  {
   "cell_type": "markdown",
   "id": "fabf8d32-352c-4096-aaa8-fbef75da1f85",
   "metadata": {},
   "source": [
    "# NFL Data Weekly Extraction & Insert function — 2025 Season\n",
    "This notebook extract and insert weekly NFL team, player, and schedule data to SQL."
   ]
  },
  {
   "cell_type": "code",
   "execution_count": null,
   "id": "f52ae633-5d52-45b8-abdc-a64237f7c1e1",
   "metadata": {},
   "outputs": [],
   "source": [
    "#-----------------------------------#\n",
    "#WEEKLY UPDATE Code\n",
    "#This is what I would run every week\n",
    "#-----------------------------------#\n",
    "\n",
    "\n",
    "#Load the latest datat into Pandas DataFrames (selecting our Target Columns)\n",
    "df_team_stats = nfl.load_team_stats().to_pandas()[target_columns_team_stats] #team game or season statistics (current season)\n",
    "df_player_stats = nfl.load_player_stats().to_pandas()[target_columns_player_stats] #player game or season statistics (current season)\n",
    "df_season_schedule = nfl.load_schedules(2025).to_pandas()[target_columns_schedule] #game schedules and results (current season), #This data will need updating later on with, updated scores\n",
    "\n",
    "#Function that extracts and uploads rows of weekly nfl data\n",
    "#key_cols will differ depending on which table we are inserting data to.\n",
    "#key_cols:\n",
    "    #nfl_team_stats: \"team\", \"week\"\n",
    "    #nfl_player_stats: \"player_id\", \"week\"\n",
    "def weekly_data_upload(df, week=None, column = \"week\", table_name = \"nfl_team_stats\", key_cols = [\"team\", \"week\"]):\n",
    "    try:\n",
    "        #1) Determine the week\n",
    "        if week is None:\n",
    "            week = df[column].max() #getting the max value on the column \"week\", i.e the latest week\n",
    "            print(f\"No week specified, using the latest week: {week}\")\n",
    "            \n",
    "        df_weekly = df[df[column]==week].copy() #Making a copy DataFrame \n",
    "        print(f\" Processing {len(df_weekly)} rows for week {week}\")\n",
    "\n",
    "        #2) Checking what's already in the SQL table to determine what rows we have\n",
    "        try:\n",
    "            df_old = pd.read_sql(f\"SELECT * FROM {table_name}\", engine)\n",
    "            print(f\"There are {len(df_old)} existing rows in {table_name}\")\n",
    "        except Exception:\n",
    "            df_old = pd.DataFrame(columns = df_weekly.columns)\n",
    "            print(f\"{table_name} was not found\")\n",
    "\n",
    "        #3) Identifying new rows\n",
    "        df_new_rows = df_weekly.loc[ #Checking the values in the DataFrame and making them into composite keys (.apply tuple()) and checking if they exist in the SQL talb\n",
    "            ~df_weekly[key_cols].apply(lambda x: tuple(x), axis = 1).isin( #We're only displaying the values that are true, aka the values that does not exist\n",
    "                df_old[key_cols].apply(lambda x: tuple(x), axis = 1)\n",
    "            )\n",
    "        ][df_weekly.columns]\n",
    "\n",
    "        #4) Insert new rows to the table\n",
    "        if not df_new_rows.empty:\n",
    "            df_new_rows.to_sql(table_name, engine, if_exists='append', chunksize=5000, index=False) #Exporting data to SQL\n",
    "            print(f\"Inserted {len(df_new_rows)} new rows to {table_name}\")\n",
    "        else:\n",
    "            print(\"No new rows added\")\n",
    "    except Exception as e:\n",
    "        print(f\"❌ Upload failed: {e}\")\n",
    "\n",
    "#Calling the function\n",
    "weekly_data_upload(df_team_stats)"
   ]
  }
 ],
 "metadata": {
  "kernelspec": {
   "display_name": "Python [conda env:base] *",
   "language": "python",
   "name": "conda-base-py"
  },
  "language_info": {
   "codemirror_mode": {
    "name": "ipython",
    "version": 3
   },
   "file_extension": ".py",
   "mimetype": "text/x-python",
   "name": "python",
   "nbconvert_exporter": "python",
   "pygments_lexer": "ipython3",
   "version": "3.13.5"
  }
 },
 "nbformat": 4,
 "nbformat_minor": 5
}
